{
 "cells": [
  {
   "cell_type": "code",
   "execution_count": null,
   "metadata": {},
   "outputs": [],
   "source": [
    "test = glob('data/chess_pieces_test/*')\n",
    "for img in test:\n",
    "    show_img(img)\n",
    "    print(PIECE_NAMES[np.argmax(predict_piece(img))])\n",
    "# array([[0.02215751, 0.02012262, 0.0809833 , 0.747563  , 0.04251623,\n",
    "#         0.08665736]], dtype=float32)"
   ]
  },
  {
   "cell_type": "code",
   "execution_count": null,
   "metadata": {
    "collapsed": true
   },
   "outputs": [],
   "source": [
    "def path_to_tensor(img_path):\n",
    "    img = image.load_img(img_path, target_size=(IMAGE_SIZE, IMAGE_SIZE))\n",
    "    img = image.img_to_array(img)\n",
    "    x = cv2.cvtColor(img, cv2.COLOR_BGR2GRAY)\n",
    "    x = np.expand_dims(x, axis=2)\n",
    "    return x.astype('float32')/255\n",
    "\n",
    "def predict_piece(img_path):\n",
    "    tensor = path_to_tensor(img_path)\n",
    "    _x = np.expand_dims(tensor, axis=0)\n",
    "    return model.predict(_x)\n",
    "\n",
    "def show_img(img_path):\n",
    "    img = cv2.imread(img_path)\n",
    "    gray = cv2.cvtColor(img, cv2.COLOR_BGRA2GRAY)\n",
    "\n",
    "    plt.imshow(gray, cmap=\"gray\", vmin=0, vmax=255)\n",
    "    plt.show()\n",
    "\n",
    "def predict_arr(arr):\n",
    "    from PIL import Image\n",
    "    img = Image.fromarray(arr)\n",
    "    x = img.resize((256, 256))\n",
    "    x = np.expand_dims(x, axis=2)\n",
    "    x = x.astype('float32')/255\n",
    "    x = np.expand_dims(x, axis=0)\n",
    "    return model.predict(_x)"
   ]
  }
 ],
 "metadata": {
  "kernelspec": {
   "display_name": "Python 3",
   "language": "python",
   "name": "python3"
  },
  "language_info": {
   "codemirror_mode": {
    "name": "ipython",
    "version": 3
   },
   "file_extension": ".py",
   "mimetype": "text/x-python",
   "name": "python",
   "nbconvert_exporter": "python",
   "pygments_lexer": "ipython3",
   "version": "3.6.1"
  }
 },
 "nbformat": 4,
 "nbformat_minor": 2
}
