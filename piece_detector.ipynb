{
 "cells": [
  {
   "cell_type": "code",
   "execution_count": 255,
   "metadata": {
    "collapsed": true
   },
   "outputs": [],
   "source": [
    "def load_images(container_path, description=None, categories=None,\n",
    "               load_content=True, shuffle=True, target_size=None, gray=True, flatten=True, random_state=0):\n",
    "    from sklearn.utils import Bunch, check_random_state\n",
    "    import cv2\n",
    "    from os import environ, listdir, makedirs\n",
    "    from os.path import dirname, exists, expanduser, isdir, join, splitext\n",
    "    import numpy as np\n",
    "    \"\"\"\n",
    "    Parameters\n",
    "    ----------\n",
    "    container_path : string or unicode\n",
    "        Path to the main folder holding one subfolder per category\n",
    "    description : string or unicode, optional (default=None)\n",
    "        A paragraph describing the characteristic of the dataset: its source,\n",
    "        reference, etc.\n",
    "    categories : A collection of strings or None, optional (default=None)\n",
    "        If None (default), load all the categories. If not None, list of\n",
    "        category names to load (other categories ignored).\n",
    "    load_content : boolean, optional (default=True)\n",
    "        Whether to load or not the content of the different files. If true a\n",
    "        'data' attribute containing the text information is present in the data\n",
    "        structure returned. If not, a filenames attribute gives the path to the\n",
    "        files.\n",
    "    shuffle : bool, optional (default=True)\n",
    "        Whether or not to shuffle the data: might be important for models that\n",
    "        make the assumption that the samples are independent and identically\n",
    "        distributed (i.i.d.), such as stochastic gradient descent.\n",
    "    encoding : string or None (default is None)\n",
    "        If None, do not try to decode the content of the files (e.g. for images\n",
    "        or other non-text content). If not None, encoding to use to decode text\n",
    "        files to Unicode if load_content is True.\n",
    "    decode_error : {'strict', 'ignore', 'replace'}, optional\n",
    "        Instruction on what to do if a byte sequence is given to analyze that\n",
    "        contains characters not of the given `encoding`. Passed as keyword\n",
    "        argument 'errors' to bytes.decode.\n",
    "    random_state : int, RandomState instance or None (default=0)\n",
    "        Determines random number generation for dataset shuffling. Pass an int\n",
    "        for reproducible output across multiple function calls.\n",
    "        See :term:`Glossary <random_state>`.\n",
    "    Returns\n",
    "    -------\n",
    "    data : Bunch\n",
    "        Dictionary-like object, the interesting attributes are: either\n",
    "        data, the raw text data to learn, or 'filenames', the files\n",
    "        holding it, 'target', the classification labels (integer index),\n",
    "        'target_names', the meaning of the labels, and 'DESCR', the full\n",
    "        description of the dataset.\n",
    "    \"\"\"\n",
    "    target = []\n",
    "    target_names = []\n",
    "    filenames = []\n",
    "\n",
    "    folders = [f for f in sorted(listdir(container_path))\n",
    "               if isdir(join(container_path, f))]\n",
    "\n",
    "    if categories is not None:\n",
    "        folders = [f for f in folders if f in categories]\n",
    "\n",
    "    for label, folder in enumerate(folders):\n",
    "        target_names.append(folder)\n",
    "        folder_path = join(container_path, folder)\n",
    "        documents = [join(folder_path, d)\n",
    "                     for d in sorted(listdir(folder_path))]\n",
    "        target.extend(len(documents) * [label])\n",
    "        filenames.extend(documents)\n",
    "\n",
    "    # convert to array for fancy indexing\n",
    "    filenames = np.array(filenames)\n",
    "    target = np.array(target)\n",
    "\n",
    "    if shuffle:\n",
    "        random_state = check_random_state(random_state)\n",
    "        indices = np.arange(filenames.shape[0])\n",
    "        random_state.shuffle(indices)\n",
    "        filenames = filenames[indices]\n",
    "        target = target[indices]\n",
    "\n",
    "    if load_content:\n",
    "        data = []\n",
    "        for filename in filenames:\n",
    "            img = cv2.imread(filename)\n",
    "            if target_size:\n",
    "                img = cv2.resize(img, target_size)\n",
    "            if gray:\n",
    "                img = cv2.cvtColor(img, cv2.COLOR_BGRA2GRAY)\n",
    "            if flatten:\n",
    "                img = img.flatten()\n",
    "            data.append(img)\n",
    "        data = np.array(data)\n",
    "        return Bunch(data=data,\n",
    "                     filenames=filenames,\n",
    "                     target_names=target_names,\n",
    "                     target=target,\n",
    "                     DESCR=description)\n",
    "\n",
    "    return Bunch(filenames=filenames,\n",
    "                 target_names=target_names,\n",
    "                 target=target,\n",
    "                 DESCR=description)"
   ]
  },
  {
   "cell_type": "code",
   "execution_count": 256,
   "metadata": {},
   "outputs": [],
   "source": [
    "import cv2\n",
    "import tensorflow as tf\n",
    "import numpy as np\n",
    "import matplotlib.pyplot as plt\n",
    "%matplotlib inline                               \n",
    "\n",
    "from glob import glob\n",
    "from keras.backend.tensorflow_backend import set_session\n",
    "from keras.layers import Conv2D, MaxPooling2D, GlobalAveragePooling2D, ZeroPadding2D, AveragePooling2D, GlobalMaxPooling2D\n",
    "from keras.layers import Dropout, Flatten, Dense, BatchNormalization\n",
    "from keras.models import Sequential\n",
    "from keras.callbacks import ModelCheckpoint, EarlyStopping\n",
    "from keras.preprocessing.image import ImageDataGenerator, image\n",
    "from keras.optimizers import SGD"
   ]
  },
  {
   "cell_type": "code",
   "execution_count": 257,
   "metadata": {
    "collapsed": true
   },
   "outputs": [],
   "source": [
    "TRAINING_DIR = 'data/data_new/'\n",
    "TESTING_DIR = 'data/data_test'\n",
    "IMAGE_SIZE = 64\n",
    "RANDOM_STATE = 157\n",
    "BATCH_SIZE = 20\n",
    "\n",
    "PIECE_NAMES = [item[14:] for item in sorted(glob(TRAINING_DIR + \"/*\"))]\n",
    "target_names = PIECE_NAMES"
   ]
  },
  {
   "cell_type": "code",
   "execution_count": 258,
   "metadata": {
    "collapsed": true
   },
   "outputs": [],
   "source": [
    "data_generator = ImageDataGenerator(\n",
    "    rescale=1./255,\n",
    "    zoom_range=0.2,\n",
    "    horizontal_flip=True,\n",
    "    validation_split=0.25,\n",
    ")"
   ]
  },
  {
   "cell_type": "code",
   "execution_count": 259,
   "metadata": {},
   "outputs": [
    {
     "name": "stdout",
     "output_type": "stream",
     "text": [
      "Found 773 images belonging to 7 classes.\n",
      "Found 256 images belonging to 7 classes.\n"
     ]
    }
   ],
   "source": [
    "train_generator = data_generator.flow_from_directory(\n",
    "    TRAINING_DIR, target_size=(IMAGE_SIZE, IMAGE_SIZE), shuffle=True, seed=RANDOM_STATE, \n",
    "    color_mode='grayscale', class_mode='categorical', batch_size=BATCH_SIZE, subset=\"training\")\n",
    "\n",
    "validation_generator = data_generator.flow_from_directory(\n",
    "    TRAINING_DIR, target_size=(IMAGE_SIZE, IMAGE_SIZE), shuffle=True, seed=RANDOM_STATE,\n",
    "    color_mode='grayscale', class_mode='categorical', batch_size=BATCH_SIZE, subset=\"validation\")"
   ]
  },
  {
   "cell_type": "code",
   "execution_count": 276,
   "metadata": {
    "scrolled": false
   },
   "outputs": [
    {
     "name": "stdout",
     "output_type": "stream",
     "text": [
      "_________________________________________________________________\n",
      "Layer (type)                 Output Shape              Param #   \n",
      "=================================================================\n",
      "batch_normalization_218 (Bat (None, 64, 64, 1)         4         \n",
      "_________________________________________________________________\n",
      "conv2d_175 (Conv2D)          (None, 64, 64, 64)        640       \n",
      "_________________________________________________________________\n",
      "batch_normalization_219 (Bat (None, 64, 64, 64)        256       \n",
      "_________________________________________________________________\n",
      "conv2d_176 (Conv2D)          (None, 64, 64, 64)        36928     \n",
      "_________________________________________________________________\n",
      "max_pooling2d_71 (MaxPooling (None, 32, 32, 64)        0         \n",
      "_________________________________________________________________\n",
      "batch_normalization_220 (Bat (None, 32, 32, 64)        256       \n",
      "_________________________________________________________________\n",
      "conv2d_177 (Conv2D)          (None, 32, 32, 64)        36928     \n",
      "_________________________________________________________________\n",
      "batch_normalization_221 (Bat (None, 32, 32, 64)        256       \n",
      "_________________________________________________________________\n",
      "conv2d_178 (Conv2D)          (None, 32, 32, 64)        36928     \n",
      "_________________________________________________________________\n",
      "max_pooling2d_72 (MaxPooling (None, 16, 16, 64)        0         \n",
      "_________________________________________________________________\n",
      "batch_normalization_222 (Bat (None, 16, 16, 64)        256       \n",
      "_________________________________________________________________\n",
      "conv2d_179 (Conv2D)          (None, 16, 16, 64)        36928     \n",
      "_________________________________________________________________\n",
      "batch_normalization_223 (Bat (None, 16, 16, 64)        256       \n",
      "_________________________________________________________________\n",
      "conv2d_180 (Conv2D)          (None, 16, 16, 64)        36928     \n",
      "_________________________________________________________________\n",
      "max_pooling2d_73 (MaxPooling (None, 8, 8, 64)          0         \n",
      "_________________________________________________________________\n",
      "batch_normalization_224 (Bat (None, 8, 8, 64)          256       \n",
      "_________________________________________________________________\n",
      "conv2d_181 (Conv2D)          (None, 8, 8, 128)         73856     \n",
      "_________________________________________________________________\n",
      "batch_normalization_225 (Bat (None, 8, 8, 128)         512       \n",
      "_________________________________________________________________\n",
      "conv2d_182 (Conv2D)          (None, 8, 8, 128)         147584    \n",
      "_________________________________________________________________\n",
      "batch_normalization_226 (Bat (None, 8, 8, 128)         512       \n",
      "_________________________________________________________________\n",
      "conv2d_183 (Conv2D)          (None, 8, 8, 128)         147584    \n",
      "_________________________________________________________________\n",
      "max_pooling2d_74 (MaxPooling (None, 4, 4, 128)         0         \n",
      "_________________________________________________________________\n",
      "batch_normalization_227 (Bat (None, 4, 4, 128)         512       \n",
      "_________________________________________________________________\n",
      "conv2d_184 (Conv2D)          (None, 4, 4, 128)         147584    \n",
      "_________________________________________________________________\n",
      "batch_normalization_228 (Bat (None, 4, 4, 128)         512       \n",
      "_________________________________________________________________\n",
      "conv2d_185 (Conv2D)          (None, 4, 4, 128)         147584    \n",
      "_________________________________________________________________\n",
      "batch_normalization_229 (Bat (None, 4, 4, 128)         512       \n",
      "_________________________________________________________________\n",
      "conv2d_186 (Conv2D)          (None, 4, 4, 128)         147584    \n",
      "_________________________________________________________________\n",
      "max_pooling2d_75 (MaxPooling (None, 2, 2, 128)         0         \n",
      "_________________________________________________________________\n",
      "batch_normalization_230 (Bat (None, 2, 2, 128)         512       \n",
      "_________________________________________________________________\n",
      "conv2d_187 (Conv2D)          (None, 2, 2, 128)         147584    \n",
      "_________________________________________________________________\n",
      "batch_normalization_231 (Bat (None, 2, 2, 128)         512       \n",
      "_________________________________________________________________\n",
      "conv2d_188 (Conv2D)          (None, 2, 2, 128)         147584    \n",
      "_________________________________________________________________\n",
      "batch_normalization_232 (Bat (None, 2, 2, 128)         512       \n",
      "_________________________________________________________________\n",
      "conv2d_189 (Conv2D)          (None, 2, 2, 128)         147584    \n",
      "_________________________________________________________________\n",
      "max_pooling2d_76 (MaxPooling (None, 1, 1, 128)         0         \n",
      "_________________________________________________________________\n",
      "dropout_27 (Dropout)         (None, 1, 1, 128)         0         \n",
      "_________________________________________________________________\n",
      "global_max_pooling2d_14 (Glo (None, 128)               0         \n",
      "_________________________________________________________________\n",
      "batch_normalization_233 (Bat (None, 128)               512       \n",
      "_________________________________________________________________\n",
      "dense_44 (Dense)             (None, 512)               66048     \n",
      "_________________________________________________________________\n",
      "batch_normalization_234 (Bat (None, 512)               2048      \n",
      "_________________________________________________________________\n",
      "dense_45 (Dense)             (None, 512)               262656    \n",
      "_________________________________________________________________\n",
      "batch_normalization_235 (Bat (None, 512)               2048      \n",
      "_________________________________________________________________\n",
      "dense_46 (Dense)             (None, 512)               262656    \n",
      "_________________________________________________________________\n",
      "batch_normalization_236 (Bat (None, 512)               2048      \n",
      "_________________________________________________________________\n",
      "dense_47 (Dense)             (None, 7)                 3591      \n",
      "=================================================================\n",
      "Total params: 2,047,051\n",
      "Trainable params: 2,040,905\n",
      "Non-trainable params: 6,146\n",
      "_________________________________________________________________\n"
     ]
    }
   ],
   "source": [
    "### TODO: Define your architecture.\n",
    "model = Sequential()\n",
    "# model.add(ZeroPadding2D((1, 1), input_shape=(IMAGE_SIZE, IMAGE_SIZE, 1)))\n",
    "\n",
    "# Layer 1\n",
    "model.add(BatchNormalization(input_shape=(IMAGE_SIZE, IMAGE_SIZE, 1)))\n",
    "model.add(Conv2D(64, (3, 3), activation='elu', padding='same'))\n",
    "model.add(BatchNormalization())\n",
    "model.add(Conv2D(64, (3, 3), activation='elu', padding='same'))\n",
    "\n",
    "model.add(MaxPooling2D(pool_size=(2, 2)))\n",
    "\n",
    "# Layer 2\n",
    "model.add(BatchNormalization())\n",
    "model.add(Conv2D(64, (3, 3), activation='elu', padding='same'))\n",
    "model.add(BatchNormalization())\n",
    "model.add(Conv2D(64, (3, 3), activation='elu', padding='same'))\n",
    "\n",
    "model.add(MaxPooling2D(pool_size=(2, 2)))\n",
    "\n",
    "# Layer 3\n",
    "model.add(BatchNormalization())\n",
    "model.add(Conv2D(64, (3, 3), activation='elu', padding='same'))\n",
    "model.add(BatchNormalization())\n",
    "model.add(Conv2D(64, (3, 3), activation='elu', padding='same'))\n",
    "\n",
    "model.add(MaxPooling2D(pool_size=(2, 2)))\n",
    "\n",
    "# Layer 4\n",
    "model.add(BatchNormalization())\n",
    "model.add(Conv2D(128, (3, 3), activation='elu', padding='same'))\n",
    "model.add(BatchNormalization())\n",
    "model.add(Conv2D(128, (3, 3), activation='elu', padding='same'))\n",
    "model.add(BatchNormalization())\n",
    "model.add(Conv2D(128, (3, 3), activation='elu', padding='same'))\n",
    "\n",
    "model.add(MaxPooling2D(pool_size=(2, 2)))\n",
    "\n",
    "# Layer 5\n",
    "model.add(BatchNormalization())\n",
    "model.add(Conv2D(128, (3, 3), activation='elu', padding='same'))\n",
    "model.add(BatchNormalization())\n",
    "model.add(Conv2D(128, (3, 3), activation='elu', padding='same'))\n",
    "model.add(BatchNormalization())\n",
    "model.add(Conv2D(128, (3, 3), activation='elu', padding='same'))\n",
    "\n",
    "model.add(MaxPooling2D(pool_size=(2, 2)))\n",
    "\n",
    "# Layer 6\n",
    "model.add(BatchNormalization())\n",
    "model.add(Conv2D(128, (3, 3), activation='elu', padding='same'))\n",
    "model.add(BatchNormalization())\n",
    "model.add(Conv2D(128, (3, 3), activation='elu', padding='same'))\n",
    "model.add(BatchNormalization())\n",
    "model.add(Conv2D(128, (3, 3), activation='elu', padding='same'))\n",
    "\n",
    "model.add(MaxPooling2D(pool_size=(2, 2)))\n",
    "model.add(Dropout(0.1))\n",
    "\n",
    "model.add(GlobalMaxPooling2D())\n",
    "model.add(BatchNormalization())\n",
    "model.add(Dense(512, activation='elu'))\n",
    "model.add(BatchNormalization())\n",
    "model.add(Dense(512, activation='elu'))\n",
    "model.add(BatchNormalization())\n",
    "model.add(Dense(512, activation='elu'))\n",
    "model.add(BatchNormalization())\n",
    "model.add(Dense(7, activation='softmax'))\n",
    "\n",
    "model.summary()"
   ]
  },
  {
   "cell_type": "code",
   "execution_count": 277,
   "metadata": {},
   "outputs": [],
   "source": [
    "model.compile(loss='categorical_crossentropy', optimizer='adadelta')\n",
    "\n",
    "checkpointer = ModelCheckpoint(filepath='saved_models/weights.best.piece_class.hdf5', \n",
    "                               verbose=1, save_best_only=True)\n",
    "\n",
    "early_stopping = EarlyStopping(monitor='val_loss', patience=10)"
   ]
  },
  {
   "cell_type": "code",
   "execution_count": 262,
   "metadata": {
    "scrolled": true
   },
   "outputs": [
    {
     "name": "stdout",
     "output_type": "stream",
     "text": [
      "Epoch 1/50\n",
      "39/39 [==============================] - 16s 403ms/step - loss: 2.8269 - val_loss: 2.1096\n",
      "\n",
      "Epoch 00001: val_loss improved from inf to 2.10956, saving model to saved_models/weights.best.piece_class.hdf5\n",
      "Epoch 2/50\n",
      "39/39 [==============================] - 4s 91ms/step - loss: 1.1655 - val_loss: 3.7719\n",
      "\n",
      "Epoch 00002: val_loss did not improve from 2.10956\n",
      "Epoch 3/50\n",
      "39/39 [==============================] - 3s 86ms/step - loss: 0.7768 - val_loss: 1.4112\n",
      "\n",
      "Epoch 00003: val_loss improved from 2.10956 to 1.41116, saving model to saved_models/weights.best.piece_class.hdf5\n",
      "Epoch 4/50\n",
      "39/39 [==============================] - 3s 86ms/step - loss: 0.4810 - val_loss: 0.4934\n",
      "\n",
      "Epoch 00004: val_loss improved from 1.41116 to 0.49340, saving model to saved_models/weights.best.piece_class.hdf5\n",
      "Epoch 5/50\n",
      "39/39 [==============================] - 3s 86ms/step - loss: 0.5752 - val_loss: 1.1958\n",
      "\n",
      "Epoch 00005: val_loss did not improve from 0.49340\n",
      "Epoch 6/50\n",
      "39/39 [==============================] - 3s 88ms/step - loss: 0.3079 - val_loss: 0.4470\n",
      "\n",
      "Epoch 00006: val_loss improved from 0.49340 to 0.44700, saving model to saved_models/weights.best.piece_class.hdf5\n",
      "Epoch 7/50\n",
      "39/39 [==============================] - 3s 89ms/step - loss: 0.3048 - val_loss: 0.4000\n",
      "\n",
      "Epoch 00007: val_loss improved from 0.44700 to 0.39997, saving model to saved_models/weights.best.piece_class.hdf5\n",
      "Epoch 8/50\n",
      "39/39 [==============================] - 3s 88ms/step - loss: 0.3378 - val_loss: 0.1349\n",
      "\n",
      "Epoch 00008: val_loss improved from 0.39997 to 0.13486, saving model to saved_models/weights.best.piece_class.hdf5\n",
      "Epoch 9/50\n",
      "39/39 [==============================] - 3s 89ms/step - loss: 0.2912 - val_loss: 0.0992\n",
      "\n",
      "Epoch 00009: val_loss improved from 0.13486 to 0.09921, saving model to saved_models/weights.best.piece_class.hdf5\n",
      "Epoch 10/50\n",
      "39/39 [==============================] - 3s 89ms/step - loss: 0.2386 - val_loss: 0.1176\n",
      "\n",
      "Epoch 00010: val_loss did not improve from 0.09921\n",
      "Epoch 11/50\n",
      "39/39 [==============================] - 4s 90ms/step - loss: 0.1602 - val_loss: 0.0600\n",
      "\n",
      "Epoch 00011: val_loss improved from 0.09921 to 0.06001, saving model to saved_models/weights.best.piece_class.hdf5\n",
      "Epoch 12/50\n",
      "39/39 [==============================] - 4s 91ms/step - loss: 0.2592 - val_loss: 0.4240\n",
      "\n",
      "Epoch 00012: val_loss did not improve from 0.06001\n",
      "Epoch 13/50\n",
      "39/39 [==============================] - 4s 94ms/step - loss: 0.1344 - val_loss: 0.3123\n",
      "\n",
      "Epoch 00013: val_loss did not improve from 0.06001\n",
      "Epoch 14/50\n",
      "39/39 [==============================] - 4s 96ms/step - loss: 0.1418 - val_loss: 0.2660\n",
      "\n",
      "Epoch 00014: val_loss did not improve from 0.06001\n",
      "Epoch 15/50\n",
      "39/39 [==============================] - 4s 91ms/step - loss: 0.1632 - val_loss: 0.1050\n",
      "\n",
      "Epoch 00015: val_loss did not improve from 0.06001\n",
      "Epoch 16/50\n",
      "39/39 [==============================] - 4s 92ms/step - loss: 0.2216 - val_loss: 0.1230\n",
      "\n",
      "Epoch 00016: val_loss did not improve from 0.06001\n",
      "Epoch 17/50\n",
      "39/39 [==============================] - 4s 94ms/step - loss: 0.0690 - val_loss: 0.0127\n",
      "\n",
      "Epoch 00017: val_loss improved from 0.06001 to 0.01267, saving model to saved_models/weights.best.piece_class.hdf5\n",
      "Epoch 18/50\n",
      "39/39 [==============================] - 4s 94ms/step - loss: 0.1381 - val_loss: 0.0259\n",
      "\n",
      "Epoch 00018: val_loss did not improve from 0.01267\n",
      "Epoch 19/50\n",
      "39/39 [==============================] - 4s 94ms/step - loss: 0.0680 - val_loss: 0.0725\n",
      "\n",
      "Epoch 00019: val_loss did not improve from 0.01267\n",
      "Epoch 20/50\n",
      "39/39 [==============================] - 4s 93ms/step - loss: 0.0788 - val_loss: 0.2825\n",
      "\n",
      "Epoch 00020: val_loss did not improve from 0.01267\n",
      "Epoch 21/50\n",
      "39/39 [==============================] - 4s 94ms/step - loss: 0.1293 - val_loss: 0.7033\n",
      "\n",
      "Epoch 00021: val_loss did not improve from 0.01267\n",
      "Epoch 22/50\n",
      "39/39 [==============================] - 4s 93ms/step - loss: 0.1472 - val_loss: 0.0044\n",
      "\n",
      "Epoch 00022: val_loss improved from 0.01267 to 0.00444, saving model to saved_models/weights.best.piece_class.hdf5\n",
      "Epoch 23/50\n",
      "39/39 [==============================] - 4s 92ms/step - loss: 0.0566 - val_loss: 0.1661\n",
      "\n",
      "Epoch 00023: val_loss did not improve from 0.00444\n",
      "Epoch 24/50\n",
      "39/39 [==============================] - 4s 91ms/step - loss: 0.0365 - val_loss: 7.3297e-04\n",
      "\n",
      "Epoch 00024: val_loss improved from 0.00444 to 0.00073, saving model to saved_models/weights.best.piece_class.hdf5\n",
      "Epoch 25/50\n",
      "39/39 [==============================] - 4s 103ms/step - loss: 0.0570 - val_loss: 0.0686\n",
      "\n",
      "Epoch 00025: val_loss did not improve from 0.00073\n",
      "Epoch 26/50\n",
      "39/39 [==============================] - 4s 93ms/step - loss: 0.0177 - val_loss: 0.4756\n",
      "\n",
      "Epoch 00026: val_loss did not improve from 0.00073\n",
      "Epoch 27/50\n",
      "39/39 [==============================] - 4s 93ms/step - loss: 0.1354 - val_loss: 0.0316\n",
      "\n",
      "Epoch 00027: val_loss did not improve from 0.00073\n",
      "Epoch 28/50\n",
      "39/39 [==============================] - 4s 92ms/step - loss: 0.0622 - val_loss: 0.0343\n",
      "\n",
      "Epoch 00028: val_loss did not improve from 0.00073\n",
      "Epoch 29/50\n",
      "39/39 [==============================] - 4s 103ms/step - loss: 0.0260 - val_loss: 0.0021\n",
      "\n",
      "Epoch 00029: val_loss did not improve from 0.00073\n",
      "Epoch 30/50\n",
      "39/39 [==============================] - 4s 93ms/step - loss: 0.0241 - val_loss: 0.0032\n",
      "\n",
      "Epoch 00030: val_loss did not improve from 0.00073\n",
      "Epoch 31/50\n",
      "39/39 [==============================] - 4s 93ms/step - loss: 0.0442 - val_loss: 0.0237\n",
      "\n",
      "Epoch 00031: val_loss did not improve from 0.00073\n",
      "Epoch 32/50\n",
      "39/39 [==============================] - 4s 93ms/step - loss: 0.0463 - val_loss: 0.0741\n",
      "\n",
      "Epoch 00032: val_loss did not improve from 0.00073\n",
      "Epoch 33/50\n",
      "39/39 [==============================] - 4s 93ms/step - loss: 0.0437 - val_loss: 0.0020\n",
      "\n",
      "Epoch 00033: val_loss did not improve from 0.00073\n",
      "Epoch 34/50\n",
      "39/39 [==============================] - 4s 98ms/step - loss: 0.0359 - val_loss: 0.2820\n",
      "\n",
      "Epoch 00034: val_loss did not improve from 0.00073\n"
     ]
    },
    {
     "data": {
      "text/plain": [
       "<keras.callbacks.History at 0x7f27352e06d8>"
      ]
     },
     "execution_count": 262,
     "metadata": {},
     "output_type": "execute_result"
    }
   ],
   "source": [
    "epochs = 50\n",
    "batch_size = 25\n",
    "\n",
    "model.fit_generator(\n",
    "    train_generator,\n",
    "    steps_per_epoch=len(train_generator),\n",
    "    epochs=epochs,\n",
    "    validation_data=validation_generator,\n",
    "    validation_steps=len(validation_generator),\n",
    "    callbacks=[checkpointer, early_stopping],\n",
    ")"
   ]
  },
  {
   "cell_type": "code",
   "execution_count": 279,
   "metadata": {},
   "outputs": [],
   "source": [
    "model.load_weights('saved_models/weights.best.piece_class.hdf5')"
   ]
  },
  {
   "cell_type": "code",
   "execution_count": 280,
   "metadata": {
    "collapsed": true
   },
   "outputs": [],
   "source": [
    "_test = load_images(TESTING_DIR, target_size=(IMAGE_SIZE, IMAGE_SIZE), flatten=False)\n",
    "X_test, y_test = _test.data, _test.target"
   ]
  },
  {
   "cell_type": "code",
   "execution_count": 281,
   "metadata": {},
   "outputs": [
    {
     "name": "stdout",
     "output_type": "stream",
     "text": [
      "(104, 64, 64, 1)\n"
     ]
    }
   ],
   "source": [
    "X_pred = np.expand_dims(X_test, axis=3).astype('float32')/255\n",
    "print(X_pred.shape)"
   ]
  },
  {
   "cell_type": "code",
   "execution_count": 283,
   "metadata": {},
   "outputs": [],
   "source": [
    "_y_pred = model.predict(X_pred)\n",
    "y_pred = [np.argmax(i) for i in _y_pred]"
   ]
  },
  {
   "cell_type": "code",
   "execution_count": 284,
   "metadata": {},
   "outputs": [],
   "source": [
    "from sklearn.metrics import accuracy_score, f1_score, classification_report, confusion_matrix"
   ]
  },
  {
   "cell_type": "code",
   "execution_count": 285,
   "metadata": {},
   "outputs": [
    {
     "data": {
      "text/plain": [
       "0.9807692307692307"
      ]
     },
     "execution_count": 285,
     "metadata": {},
     "output_type": "execute_result"
    }
   ],
   "source": [
    "accuracy_score(y_test, y_pred)"
   ]
  },
  {
   "cell_type": "code",
   "execution_count": 286,
   "metadata": {},
   "outputs": [
    {
     "data": {
      "text/plain": [
       "0.9807692307692307"
      ]
     },
     "execution_count": 286,
     "metadata": {},
     "output_type": "execute_result"
    }
   ],
   "source": [
    "f1_score(y_test, y_pred, average='micro')"
   ]
  },
  {
   "cell_type": "code",
   "execution_count": 287,
   "metadata": {},
   "outputs": [
    {
     "name": "stdout",
     "output_type": "stream",
     "text": [
      "              precision    recall  f1-score   support\n",
      "\n",
      "      BISHOP       1.00      1.00      1.00        16\n",
      "       BLANK       1.00      1.00      1.00        16\n",
      "        KING       1.00      1.00      1.00        12\n",
      "      KNIGHT       1.00      1.00      1.00        16\n",
      "        PAWN       1.00      1.00      1.00        16\n",
      "       QUEEN       1.00      0.83      0.91        12\n",
      "        ROOK       0.89      1.00      0.94        16\n",
      "\n",
      "   micro avg       0.98      0.98      0.98       104\n",
      "   macro avg       0.98      0.98      0.98       104\n",
      "weighted avg       0.98      0.98      0.98       104\n",
      "\n",
      "[[16  0  0  0  0  0  0]\n",
      " [ 0 16  0  0  0  0  0]\n",
      " [ 0  0 12  0  0  0  0]\n",
      " [ 0  0  0 16  0  0  0]\n",
      " [ 0  0  0  0 16  0  0]\n",
      " [ 0  0  0  0  0 10  2]\n",
      " [ 0  0  0  0  0  0 16]]\n"
     ]
    }
   ],
   "source": [
    "print(classification_report(y_test, y_pred, target_names=target_names))\n",
    "print(confusion_matrix(y_test, y_pred, labels=range(len(target_names))))"
   ]
  },
  {
   "cell_type": "code",
   "execution_count": 288,
   "metadata": {
    "scrolled": false
   },
   "outputs": [
    {
     "data": {
      "image/png": "[encoded data removed]",
      "text/plain": [
       "<matplotlib.figure.Figure at 0x7f272949db00>"
      ]
     },
     "metadata": {},
     "output_type": "display_data"
    },
    {
     "name": "stdout",
     "output_type": "stream",
     "text": [
      "QUEEN ROOK\n"
     ]
    },
    {
     "data": {
      "image/png": "[encoded data removed]",
      "text/plain": [
       "<matplotlib.figure.Figure at 0x7f27292e7908>"
      ]
     },
     "metadata": {},
     "output_type": "display_data"
    },
    {
     "name": "stdout",
     "output_type": "stream",
     "text": [
      "QUEEN ROOK\n"
     ]
    }
   ],
   "source": [
    "for i in range(len(y_test)):\n",
    "    if y_test[i] != y_pred[i]:\n",
    "        img = X_test[i]\n",
    "        plt.imshow(X_test[i])\n",
    "        plt.show()\n",
    "        print(target_names[y_test[i]], target_names[y_pred[i]])"
   ]
  }
 ],
 "metadata": {
  "kernelspec": {
   "display_name": "Python 3",
   "language": "python",
   "name": "python3"
  },
  "language_info": {
   "codemirror_mode": {
    "name": "ipython",
    "version": 3
   },
   "file_extension": ".py",
   "mimetype": "text/x-python",
   "name": "python",
   "nbconvert_exporter": "python",
   "pygments_lexer": "ipython3",
   "version": "3.6.1"
  }
 },
 "nbformat": 4,
 "nbformat_minor": 2
}
